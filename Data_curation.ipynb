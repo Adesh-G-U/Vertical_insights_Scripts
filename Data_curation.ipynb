{
 "cells": [
  {
   "cell_type": "code",
   "execution_count": 1,
   "id": "0adfbf5f-527c-4104-9dde-fedf421e57e8",
   "metadata": {},
   "outputs": [],
   "source": [
    "#import proximityhash as pr\n",
    "from pyspark.sql.functions import *\n",
    "from pyspark.sql import SparkSession\n",
    "from pyspark.sql.types import StructType, StructField, StringType\n",
    "from pyspark.sql.window import Window\n",
    "import pandas as pd\n",
    "# import boto3\n",
    "# import datetime as dt\n",
    "from datetime import datetime, timedelta\n",
    "# import proximityhash as pr\n",
    "# import pygeohash as pgh\n",
    "# import geojson\n",
    "# import geohashlite\n",
    "import json"
   ]
  },
  {
   "cell_type": "code",
   "execution_count": 2,
   "id": "4200e860-ce43-410c-932f-a1841edc14bb",
   "metadata": {},
   "outputs": [
    {
     "name": "stderr",
     "output_type": "stream",
     "text": [
      "Setting default log level to \"WARN\".\n",
      "To adjust logging level use sc.setLogLevel(newLevel). For SparkR, use setLogLevel(newLevel).\n",
      "24/09/05 12:30:59 WARN NativeCodeLoader: Unable to load native-hadoop library for your platform... using builtin-java classes where applicable\n"
     ]
    }
   ],
   "source": [
    "spark = SparkSession.builder.appName(\"insights\").getOrCreate()"
   ]
  },
  {
   "cell_type": "code",
   "execution_count": 3,
   "id": "56fad4e3-8552-42f0-be98-820092c773e8",
   "metadata": {},
   "outputs": [],
   "source": [
    "geojson_file_path = \"/Users/nlblr135/Downloads/usa_county.geojson\"\n",
    "\n",
    "# Load the .geojson file\n",
    "with open(geojson_file_path, 'r') as f:\n",
    "    data = json.load(f)\n",
    "\n",
    "# Extract features from the GeoJSON data\n",
    "features = data[\"features\"]\n",
    "rows = [\n",
    "    {\n",
    "        \"GEOID\": feature[\"properties\"][\"GEOID\"],\n",
    "        \"NAME\": feature[\"properties\"][\"NAME\"],\n",
    "        \"NAMELSAD\": feature[\"properties\"][\"NAMELSAD\"],\n",
    "        \"STATE_NAME\": feature[\"properties\"][\"STATE_NAME\"],\n",
    "        \"geometry\": f\"MultiPolygon {feature['geometry']['coordinates']}\"\n",
    "    }\n",
    "    for feature in features\n",
    "]\n",
    "\n",
    "# Define the schema for the DataFrame\n",
    "schema = StructType([\n",
    "    StructField(\"GEOID\", StringType(), True),\n",
    "    StructField(\"NAME\", StringType(), True),\n",
    "    StructField(\"NAMELSAD\", StringType(), True),\n",
    "    StructField(\"STATE_NAME\", StringType(), True),\n",
    "    StructField(\"geometry\", StringType(), True)\n",
    "])\n",
    "\n",
    "# Create DataFrame\n",
    "df = spark.createDataFrame(rows, schema)"
   ]
  },
  {
   "cell_type": "code",
   "execution_count": 4,
   "id": "6153d662-952a-4775-a53e-96946f013a9d",
   "metadata": {},
   "outputs": [
    {
     "name": "stderr",
     "output_type": "stream",
     "text": [
      "24/09/05 12:31:11 WARN TaskSetManager: Stage 0 contains a task of very large size (9871 KiB). The maximum recommended task size is 1000 KiB.\n",
      "                                                                                \r"
     ]
    },
    {
     "name": "stdout",
     "output_type": "stream",
     "text": [
      "+-----+-------+--------------+----------+--------------------+\n",
      "|GEOID|   NAME|      NAMELSAD|STATE_NAME|            geometry|\n",
      "+-----+-------+--------------+----------+--------------------+\n",
      "|01069|Houston|Houston County|   Alabama|MultiPolygon [[[[...|\n",
      "|01023|Choctaw|Choctaw County|   Alabama|MultiPolygon [[[[...|\n",
      "|01005|Barbour|Barbour County|   Alabama|MultiPolygon [[[[...|\n",
      "|01107|Pickens|Pickens County|   Alabama|MultiPolygon [[[[...|\n",
      "|01033|Colbert|Colbert County|   Alabama|MultiPolygon [[[[...|\n",
      "+-----+-------+--------------+----------+--------------------+\n",
      "only showing top 5 rows\n",
      "\n"
     ]
    }
   ],
   "source": [
    "df.show(5)"
   ]
  },
  {
   "cell_type": "code",
   "execution_count": 5,
   "id": "9870bada-3c58-4017-ac5a-83b498e6d50a",
   "metadata": {},
   "outputs": [
    {
     "name": "stderr",
     "output_type": "stream",
     "text": [
      "24/09/05 12:31:13 WARN TaskSetManager: Stage 1 contains a task of very large size (9871 KiB). The maximum recommended task size is 1000 KiB.\n"
     ]
    },
    {
     "name": "stdout",
     "output_type": "stream",
     "text": [
      "+-----+--------------+----------+--------------------+\n",
      "|GEOID|        County|STATE_NAME|            geometry|\n",
      "+-----+--------------+----------+--------------------+\n",
      "|01069|Houston County|   Alabama|MultiPolygon [[[[...|\n",
      "|01023|Choctaw County|   Alabama|MultiPolygon [[[[...|\n",
      "|01005|Barbour County|   Alabama|MultiPolygon [[[[...|\n",
      "|01107|Pickens County|   Alabama|MultiPolygon [[[[...|\n",
      "|01033|Colbert County|   Alabama|MultiPolygon [[[[...|\n",
      "+-----+--------------+----------+--------------------+\n",
      "only showing top 5 rows\n",
      "\n"
     ]
    }
   ],
   "source": [
    "df = df.select(\"GEOID\", \"NAMELSAD\", \"STATE_NAME\", \"geometry\")\n",
    "df = df.withColumnRenamed(\"NAMELSAD\", \"County\")\n",
    "df.show(5)"
   ]
  },
  {
   "cell_type": "code",
   "execution_count": 6,
   "id": "8e1eaf23-6f91-4302-bc40-3f9368742ead",
   "metadata": {},
   "outputs": [
    {
     "name": "stderr",
     "output_type": "stream",
     "text": [
      "24/09/05 12:31:14 WARN TaskSetManager: Stage 2 contains a task of very large size (9871 KiB). The maximum recommended task size is 1000 KiB.\n"
     ]
    },
    {
     "name": "stdout",
     "output_type": "stream",
     "text": [
      "+-----+--------------+----------+--------------------+-------------+---------------+\n",
      "|GEOID|        County|STATE_NAME|            geometry|  Name_county|STATE_NAME_temp|\n",
      "+-----+--------------+----------+--------------------+-------------+---------------+\n",
      "|01069|Houston County|   Alabama|MultiPolygon [[[[...|houstoncounty|        alabama|\n",
      "|01023|Choctaw County|   Alabama|MultiPolygon [[[[...|choctawcounty|        alabama|\n",
      "|01005|Barbour County|   Alabama|MultiPolygon [[[[...|barbourcounty|        alabama|\n",
      "|01107|Pickens County|   Alabama|MultiPolygon [[[[...|pickenscounty|        alabama|\n",
      "|01033|Colbert County|   Alabama|MultiPolygon [[[[...|colbertcounty|        alabama|\n",
      "+-----+--------------+----------+--------------------+-------------+---------------+\n",
      "only showing top 5 rows\n",
      "\n"
     ]
    }
   ],
   "source": [
    "df = df.withColumn(\"Name_county\", lower(regexp_replace(col(\"County\"), \" \", \"\"))).withColumn(\"STATE_NAME_temp\", lower(regexp_replace(col(\"STATE_NAME\"), \" \", \"\")))\n",
    "df.show(5)"
   ]
  },
  {
   "cell_type": "code",
   "execution_count": 25,
   "id": "27dafb2a-0c68-4bb9-99c8-c96adf100603",
   "metadata": {},
   "outputs": [
    {
     "name": "stdout",
     "output_type": "stream",
     "text": [
      "+----------------+-----+--------------+----------------+----+\n",
      "|          County|State|Reach Estimate|Percent Visitors|rank|\n",
      "+----------------+-----+--------------+----------------+----+\n",
      "|    Brown County|   WI|         28520|          14.0 %|   1|\n",
      "|Outagamie County|   WI|          8969|           4.0 %|   2|\n",
      "|Milwaukee County|   WI|          8775|           4.0 %|   3|\n",
      "|     Cook County|   IL|          7664|           4.0 %|   4|\n",
      "| Waukesha County|   WI|          6765|           3.0 %|   5|\n",
      "+----------------+-----+--------------+----------------+----+\n",
      "only showing top 5 rows\n",
      "\n"
     ]
    }
   ],
   "source": [
    "texas_data = spark.read.csv(\"/Users/nlblr135/Downloads/insights/final/county_wise_cel_counts.csv\", header = True)\n",
    "texas_data.show(5)"
   ]
  },
  {
   "cell_type": "code",
   "execution_count": 8,
   "id": "3371cc30-1064-447d-b19c-498ef4449716",
   "metadata": {},
   "outputs": [
    {
     "name": "stdout",
     "output_type": "stream",
     "text": [
      "+--------------+-----+--------------+----+-------------+----------+\n",
      "|        County|State|Reach Estimate|rank|  County_temp|State_temp|\n",
      "+--------------+-----+--------------+----+-------------+----------+\n",
      "| Harris County|   TX|        435593|   1| harriscounty|        tx|\n",
      "|Tarrant County|   TX|        319556|   2|tarrantcounty|        tx|\n",
      "| Dallas County|   TX|        293879|   3| dallascounty|        tx|\n",
      "|  Bexar County|   TX|        230875|   4|  bexarcounty|        tx|\n",
      "| Collin County|   TX|        158077|   5| collincounty|        tx|\n",
      "+--------------+-----+--------------+----+-------------+----------+\n",
      "only showing top 5 rows\n",
      "\n"
     ]
    }
   ],
   "source": [
    "texas_data = texas_data.withColumn(\"County_temp\", lower(regexp_replace(col(\"County\"), \" \", \"\"))).withColumn(\"State_temp\", lower(regexp_replace(col(\"State\"), \" \", \"\")))\n",
    "texas_data.show(5)"
   ]
  },
  {
   "cell_type": "code",
   "execution_count": 11,
   "id": "863e0bf5-7d19-4109-a4f9-de673084ec34",
   "metadata": {},
   "outputs": [
    {
     "name": "stdout",
     "output_type": "stream",
     "text": [
      "+---------------+----------+---------------+---------+\n",
      "|State_name_fibs|State_code|    County_name|FIPS_code|\n",
      "+---------------+----------+---------------+---------+\n",
      "|       New York|        NY|   Bronx County|    36005|\n",
      "|      Minnesota|        MN|  Dakota County|    27037|\n",
      "|       Colorado|        CO|    Weld County|    08123|\n",
      "| North Carolina|        NC|Caldwell County|    37027|\n",
      "|           Iowa|        IA|    Linn County|    19113|\n",
      "+---------------+----------+---------------+---------+\n",
      "only showing top 5 rows\n",
      "\n"
     ]
    }
   ],
   "source": [
    "fibs = spark.read.csv(\"/Users/nlblr135/Downloads/insights/FIPS_code.csv\", header = True)\n",
    "# fibs = fibs.select(\"State_name\", \"State_code\")\n",
    "fibs = fibs.withColumnRenamed(\"State_name\", \"State_name_fibs\")\n",
    "fibs.show(5)"
   ]
  },
  {
   "cell_type": "code",
   "execution_count": 13,
   "id": "b843ce52-0c3a-461d-9210-17b6cb817f4e",
   "metadata": {},
   "outputs": [
    {
     "name": "stdout",
     "output_type": "stream",
     "text": [
      "+---------------+----------+---------------+---------+---------------+----------------+\n",
      "|State_name_fibs|State_code|    County_name|FIPS_code|State_name_temp|County_name_temp|\n",
      "+---------------+----------+---------------+---------+---------------+----------------+\n",
      "|       New York|        NY|   Bronx County|    36005|        newyork|     bronxcounty|\n",
      "|      Minnesota|        MN|  Dakota County|    27037|      minnesota|    dakotacounty|\n",
      "|       Colorado|        CO|    Weld County|    08123|       colorado|      weldcounty|\n",
      "| North Carolina|        NC|Caldwell County|    37027|  northcarolina|  caldwellcounty|\n",
      "|           Iowa|        IA|    Linn County|    19113|           iowa|      linncounty|\n",
      "+---------------+----------+---------------+---------+---------------+----------------+\n",
      "only showing top 5 rows\n",
      "\n"
     ]
    }
   ],
   "source": [
    "fibs = fibs.withColumn(\"State_name_temp\", lower(regexp_replace(col(\"State_name_fibs\"), \" \", \"\"))).withColumn(\"County_name_temp\", lower(regexp_replace(col(\"County_name\"), \" \", \"\")))\n",
    "fibs.show(5)\n"
   ]
  },
  {
   "cell_type": "code",
   "execution_count": 14,
   "id": "7ad0870d-8282-4caf-b328-ea2d27890b35",
   "metadata": {},
   "outputs": [
    {
     "name": "stderr",
     "output_type": "stream",
     "text": [
      "24/09/05 12:39:49 WARN TaskSetManager: Stage 10 contains a task of very large size (9871 KiB). The maximum recommended task size is 1000 KiB.\n"
     ]
    },
    {
     "name": "stdout",
     "output_type": "stream",
     "text": [
      "+-----+--------------+----------+--------------------+-------------+---------------+---------------+----------+--------------+---------+---------------+----------------+\n",
      "|GEOID|        County|STATE_NAME|            geometry|  Name_county|STATE_NAME_temp|State_name_fibs|State_code|   County_name|FIPS_code|State_name_temp|County_name_temp|\n",
      "+-----+--------------+----------+--------------------+-------------+---------------+---------------+----------+--------------+---------+---------------+----------------+\n",
      "|01069|Houston County|   Alabama|MultiPolygon [[[[...|houstoncounty|        alabama|        Alabama|        AL|Houston County|    01069|        alabama|   houstoncounty|\n",
      "|01023|Choctaw County|   Alabama|MultiPolygon [[[[...|choctawcounty|        alabama|        Alabama|        AL|Choctaw County|    01023|        alabama|   choctawcounty|\n",
      "|01005|Barbour County|   Alabama|MultiPolygon [[[[...|barbourcounty|        alabama|        Alabama|        AL|Barbour County|    01005|        alabama|   barbourcounty|\n",
      "|01107|Pickens County|   Alabama|MultiPolygon [[[[...|pickenscounty|        alabama|        Alabama|        AL|Pickens County|    01107|        alabama|   pickenscounty|\n",
      "|01033|Colbert County|   Alabama|MultiPolygon [[[[...|colbertcounty|        alabama|        Alabama|        AL|Colbert County|    01033|        alabama|   colbertcounty|\n",
      "+-----+--------------+----------+--------------------+-------------+---------------+---------------+----------+--------------+---------+---------------+----------------+\n",
      "only showing top 5 rows\n",
      "\n"
     ]
    }
   ],
   "source": [
    "final_df = df.join(fibs, (df.Name_county == fibs.County_name_temp) & (df.STATE_NAME_temp == fibs.State_name_temp), how = \"inner\")\n",
    "final_df.show(5)"
   ]
  },
  {
   "cell_type": "code",
   "execution_count": 16,
   "id": "b13b1898-9483-41f3-a207-dfe91d4250e9",
   "metadata": {},
   "outputs": [
    {
     "name": "stderr",
     "output_type": "stream",
     "text": [
      "24/09/05 12:43:21 WARN TaskSetManager: Stage 12 contains a task of very large size (9871 KiB). The maximum recommended task size is 1000 KiB.\n"
     ]
    },
    {
     "name": "stdout",
     "output_type": "stream",
     "text": [
      "+----------+----------+--------------+-----+--------------------+\n",
      "|STATE_NAME|State_code|        County|GEOID|            geometry|\n",
      "+----------+----------+--------------+-----+--------------------+\n",
      "|   Alabama|        AL|Houston County|01069|MultiPolygon [[[[...|\n",
      "|   Alabama|        AL|Choctaw County|01023|MultiPolygon [[[[...|\n",
      "|   Alabama|        AL|Barbour County|01005|MultiPolygon [[[[...|\n",
      "|   Alabama|        AL|Pickens County|01107|MultiPolygon [[[[...|\n",
      "|   Alabama|        AL|Colbert County|01033|MultiPolygon [[[[...|\n",
      "+----------+----------+--------------+-----+--------------------+\n",
      "only showing top 5 rows\n",
      "\n"
     ]
    }
   ],
   "source": [
    "final_df = final_df.select(\"STATE_NAME\", \"State_code\", \"County\", \"GEOID\", \"geometry\")\n",
    "final_df.show(5)"
   ]
  },
  {
   "cell_type": "code",
   "execution_count": 17,
   "id": "9f867b44-69cb-48c0-a2af-40e6d6ea9b67",
   "metadata": {},
   "outputs": [
    {
     "name": "stderr",
     "output_type": "stream",
     "text": [
      "24/09/05 12:43:22 WARN TaskSetManager: Stage 14 contains a task of very large size (9871 KiB). The maximum recommended task size is 1000 KiB.\n"
     ]
    },
    {
     "name": "stdout",
     "output_type": "stream",
     "text": [
      "+----------+----------+--------------+-----+--------------------+-------------+---------------+\n",
      "|STATE_NAME|State_code|    County_new|GEOID|            geometry|  County_temp|State_code_temp|\n",
      "+----------+----------+--------------+-----+--------------------+-------------+---------------+\n",
      "|   Alabama|        AL|Houston County|01069|MultiPolygon [[[[...|houstoncounty|             al|\n",
      "|   Alabama|        AL|Choctaw County|01023|MultiPolygon [[[[...|choctawcounty|             al|\n",
      "|   Alabama|        AL|Barbour County|01005|MultiPolygon [[[[...|barbourcounty|             al|\n",
      "|   Alabama|        AL|Pickens County|01107|MultiPolygon [[[[...|pickenscounty|             al|\n",
      "|   Alabama|        AL|Colbert County|01033|MultiPolygon [[[[...|colbertcounty|             al|\n",
      "+----------+----------+--------------+-----+--------------------+-------------+---------------+\n",
      "only showing top 5 rows\n",
      "\n"
     ]
    }
   ],
   "source": [
    "final_df = final_df.withColumnRenamed(\"County\", \"County_new\").withColumn(\"County_temp\", lower(regexp_replace(col(\"County_new\"), \" \", \"\"))).withColumn(\"State_code_temp\", lower(regexp_replace(col(\"State_code\"), \" \", \"\")))\n",
    "final_df.show(5)"
   ]
  },
  {
   "cell_type": "code",
   "execution_count": 19,
   "id": "d04a5a77-5738-4f3b-8cb9-2da733725007",
   "metadata": {},
   "outputs": [
    {
     "name": "stderr",
     "output_type": "stream",
     "text": [
      "24/09/05 12:43:43 WARN TaskSetManager: Stage 17 contains a task of very large size (9871 KiB). The maximum recommended task size is 1000 KiB.\n"
     ]
    },
    {
     "name": "stdout",
     "output_type": "stream",
     "text": [
      "+----------+----------+--------------+-----+--------------------+-------------+---------------+--------------+-----+--------------+----+-------------+----------+\n",
      "|STATE_NAME|State_code|    County_new|GEOID|            geometry|  County_temp|State_code_temp|        County|State|Reach Estimate|rank|  County_temp|State_temp|\n",
      "+----------+----------+--------------+-----+--------------------+-------------+---------------+--------------+-----+--------------+----+-------------+----------+\n",
      "|     Texas|        TX|Kleberg County|48273|MultiPolygon [[[[...|klebergcounty|             tx|Kleberg County|   TX|          5443|  98|klebergcounty|        tx|\n",
      "|     Texas|        TX|Refugio County|48391|MultiPolygon [[[[...|refugiocounty|             tx|Refugio County|   TX|          1225| 173|refugiocounty|        tx|\n",
      "|     Texas|        TX| Harris County|48201|MultiPolygon [[[[...| harriscounty|             tx| Harris County|   TX|        435593|   1| harriscounty|        tx|\n",
      "|     Texas|        TX| Harris County|48201|MultiPolygon [[[[...| harriscounty|             tx| Harris County|   TX|        435593|   1| harriscounty|        tx|\n",
      "|     Texas|        TX| Harris County|48201|MultiPolygon [[[[...| harriscounty|             tx| Harris County|   TX|        435593|   1| harriscounty|        tx|\n",
      "+----------+----------+--------------+-----+--------------------+-------------+---------------+--------------+-----+--------------+----+-------------+----------+\n",
      "only showing top 5 rows\n",
      "\n"
     ]
    }
   ],
   "source": [
    "data = final_df.join(texas_data, (final_df.County_temp == texas_data.County_temp) & (final_df.State_code_temp == texas_data.State_temp))\n",
    "data.show(5)"
   ]
  },
  {
   "cell_type": "code",
   "execution_count": 20,
   "id": "d7e78135-2c88-400c-bba9-37ab84101b07",
   "metadata": {},
   "outputs": [
    {
     "name": "stderr",
     "output_type": "stream",
     "text": [
      "24/09/05 12:44:22 WARN TaskSetManager: Stage 20 contains a task of very large size (9871 KiB). The maximum recommended task size is 1000 KiB.\n"
     ]
    },
    {
     "name": "stdout",
     "output_type": "stream",
     "text": [
      "+----------+----------+--------------+--------------+----+-----+--------------------+\n",
      "|STATE_NAME|State_code|        County|Reach Estimate|rank|GEOID|            geometry|\n",
      "+----------+----------+--------------+--------------+----+-----+--------------------+\n",
      "|     Texas|        TX|Kleberg County|          5443|  98|48273|MultiPolygon [[[[...|\n",
      "|     Texas|        TX|Refugio County|          1225| 173|48391|MultiPolygon [[[[...|\n",
      "|     Texas|        TX| Harris County|        435593|   1|48201|MultiPolygon [[[[...|\n",
      "|     Texas|        TX| Harris County|        435593|   1|48201|MultiPolygon [[[[...|\n",
      "|     Texas|        TX| Harris County|        435593|   1|48201|MultiPolygon [[[[...|\n",
      "|     Texas|        TX| Harris County|        435593|   1|48201|MultiPolygon [[[[...|\n",
      "|     Texas|        TX| Harris County|        435593|   1|48201|MultiPolygon [[[[...|\n",
      "|     Texas|        TX| Harris County|        435593|   1|48201|MultiPolygon [[[[...|\n",
      "|     Texas|        TX| Harris County|        435593|   1|48201|MultiPolygon [[[[...|\n",
      "|     Texas|        TX| Harris County|        435593|   1|48201|MultiPolygon [[[[...|\n",
      "|     Texas|        TX| Harris County|        435593|   1|48201|MultiPolygon [[[[...|\n",
      "|     Texas|        TX| Harris County|        435593|   1|48201|MultiPolygon [[[[...|\n",
      "|     Texas|        TX| Harris County|        435593|   1|48201|MultiPolygon [[[[...|\n",
      "|     Texas|        TX| Harris County|        435593|   1|48201|MultiPolygon [[[[...|\n",
      "|     Texas|        TX| Harris County|        435593|   1|48201|MultiPolygon [[[[...|\n",
      "|     Texas|        TX| Harris County|        435593|   1|48201|MultiPolygon [[[[...|\n",
      "|     Texas|        TX| Harris County|        435593|   1|48201|MultiPolygon [[[[...|\n",
      "|     Texas|        TX| Harris County|        435593|   1|48201|MultiPolygon [[[[...|\n",
      "|     Texas|        TX| Harris County|        435593|   1|48201|MultiPolygon [[[[...|\n",
      "|     Texas|        TX| Harris County|        435593|   1|48201|MultiPolygon [[[[...|\n",
      "+----------+----------+--------------+--------------+----+-----+--------------------+\n",
      "only showing top 20 rows\n",
      "\n"
     ]
    }
   ],
   "source": [
    "data = data.select(\"STATE_NAME\", \"State_code\", \"County\", \"Reach Estimate\", \"rank\", \"GEOID\", \"geometry\")\n",
    "data.show()"
   ]
  },
  {
   "cell_type": "code",
   "execution_count": 21,
   "id": "9116e25c-7fd3-4e10-95b1-fe3cd35dcf16",
   "metadata": {},
   "outputs": [],
   "source": [
    "data = data.dropDuplicates()"
   ]
  },
  {
   "cell_type": "code",
   "execution_count": 23,
   "id": "76e9477f-52ba-4746-9353-b029e55df305",
   "metadata": {},
   "outputs": [
    {
     "name": "stderr",
     "output_type": "stream",
     "text": [
      "24/09/05 12:45:14 WARN TaskSetManager: Stage 26 contains a task of very large size (9871 KiB). The maximum recommended task size is 1000 KiB.\n"
     ]
    }
   ],
   "source": [
    "data.coalesce(1).write.csv(\"/Users/nlblr135/Downloads/insights/geoid_data/new_full/\", header = True)"
   ]
  },
  {
   "cell_type": "code",
   "execution_count": 26,
   "id": "560de444-5ce7-4b91-b9c9-436afe254e99",
   "metadata": {},
   "outputs": [
    {
     "name": "stdout",
     "output_type": "stream",
     "text": [
      "+----------------+-----+--------------+----------------+----+\n",
      "|          County|State|Reach Estimate|Percent Visitors|rank|\n",
      "+----------------+-----+--------------+----------------+----+\n",
      "|    Brown County|   WI|         28520|          14.0 %|   1|\n",
      "|Outagamie County|   WI|          8969|           4.0 %|   2|\n",
      "|Milwaukee County|   WI|          8775|           4.0 %|   3|\n",
      "|     Cook County|   IL|          7664|           4.0 %|   4|\n",
      "| Waukesha County|   WI|          6765|           3.0 %|   5|\n",
      "+----------------+-----+--------------+----------------+----+\n",
      "only showing top 5 rows\n",
      "\n"
     ]
    }
   ],
   "source": [
    "county_data = spark.read.csv(\"/Users/nlblr135/Downloads/insights/final/county_wise_cel_counts.csv\", header = True)\n",
    "county_data.show(5)"
   ]
  },
  {
   "cell_type": "code",
   "execution_count": 27,
   "id": "214a8557-aa93-4b81-ad04-d4e29a44a0b4",
   "metadata": {},
   "outputs": [
    {
     "name": "stdout",
     "output_type": "stream",
     "text": [
      "+----------------+-----+--------------+----------------+----+---------------+----------+\n",
      "|          County|State|Reach Estimate|Percent Visitors|rank|    County_temp|State_temp|\n",
      "+----------------+-----+--------------+----------------+----+---------------+----------+\n",
      "|    Brown County|   WI|         28520|          14.0 %|   1|    browncounty|        wi|\n",
      "|Outagamie County|   WI|          8969|           4.0 %|   2|outagamiecounty|        wi|\n",
      "|Milwaukee County|   WI|          8775|           4.0 %|   3|milwaukeecounty|        wi|\n",
      "|     Cook County|   IL|          7664|           4.0 %|   4|     cookcounty|        il|\n",
      "| Waukesha County|   WI|          6765|           3.0 %|   5| waukeshacounty|        wi|\n",
      "+----------------+-----+--------------+----------------+----+---------------+----------+\n",
      "only showing top 5 rows\n",
      "\n"
     ]
    }
   ],
   "source": [
    "county_data = county_data.withColumn(\"County_temp\", lower(regexp_replace(col(\"County\"), \" \", \"\"))).withColumn(\"State_temp\", lower(regexp_replace(col(\"State\"), \" \", \"\")))\n",
    "county_data.show(5)"
   ]
  },
  {
   "cell_type": "code",
   "execution_count": 28,
   "id": "0ce8c61e-08e4-4eaf-b400-171a374a636e",
   "metadata": {},
   "outputs": [
    {
     "name": "stderr",
     "output_type": "stream",
     "text": [
      "24/09/05 19:13:07 WARN TaskSetManager: Stage 38 contains a task of very large size (9871 KiB). The maximum recommended task size is 1000 KiB.\n"
     ]
    },
    {
     "name": "stdout",
     "output_type": "stream",
     "text": [
      "+----------+----------+------------------+-----+--------------------+----------------+---------------+------------------+-----+--------------+----------------+----+----------------+----------+\n",
      "|STATE_NAME|State_code|        County_new|GEOID|            geometry|     County_temp|State_code_temp|            County|State|Reach Estimate|Percent Visitors|rank|     County_temp|State_temp|\n",
      "+----------+----------+------------------+-----+--------------------+----------------+---------------+------------------+-----+--------------+----------------+----+----------------+----------+\n",
      "|   Alabama|        AL|    Houston County|01069|MultiPolygon [[[[...|   houstoncounty|             al|    Houston County|   AL|             1|           0.0 %|2136|   houstoncounty|        al|\n",
      "|   Alabama|        AL|    Colbert County|01033|MultiPolygon [[[[...|   colbertcounty|             al|    Colbert County|   AL|             3|           0.0 %|1329|   colbertcounty|        al|\n",
      "|   Arizona|        AZ|     La Paz County|04012|MultiPolygon [[[[...|     lapazcounty|             az|     La Paz County|   AZ|             2|           0.0 %|1590|     lapazcounty|        az|\n",
      "|  Arkansas|        AR|   Randolph County|05121|MultiPolygon [[[[...|  randolphcounty|             ar|   Randolph County|   AR|             1|           0.0 %|2180|  randolphcounty|        ar|\n",
      "|California|        CA|Los Angeles County|06037|MultiPolygon [[[[...|losangelescounty|             ca|Los Angeles County|   CA|           124|           0.0 %| 104|losangelescounty|        ca|\n",
      "+----------+----------+------------------+-----+--------------------+----------------+---------------+------------------+-----+--------------+----------------+----+----------------+----------+\n",
      "only showing top 5 rows\n",
      "\n"
     ]
    },
    {
     "name": "stderr",
     "output_type": "stream",
     "text": [
      "                                                                                \r"
     ]
    }
   ],
   "source": [
    "data = final_df.join(county_data, (final_df.County_temp == county_data.County_temp) & (final_df.State_code_temp == county_data.State_temp))\n",
    "data.show(5)"
   ]
  },
  {
   "cell_type": "code",
   "execution_count": 30,
   "id": "2456db14-95d7-49aa-a590-ad938fe33254",
   "metadata": {},
   "outputs": [
    {
     "name": "stderr",
     "output_type": "stream",
     "text": [
      "24/09/05 19:14:10 WARN TaskSetManager: Stage 41 contains a task of very large size (9871 KiB). The maximum recommended task size is 1000 KiB.\n"
     ]
    },
    {
     "name": "stdout",
     "output_type": "stream",
     "text": [
      "+----------+----------+------------------+--------------+----------------+-----+--------------------+\n",
      "|STATE_NAME|State_code|            County|Reach Estimate|Percent Visitors|GEOID|            geometry|\n",
      "+----------+----------+------------------+--------------+----------------+-----+--------------------+\n",
      "|   Alabama|        AL|    Houston County|             1|           0.0 %|01069|MultiPolygon [[[[...|\n",
      "|   Alabama|        AL|    Colbert County|             3|           0.0 %|01033|MultiPolygon [[[[...|\n",
      "|   Arizona|        AZ|     La Paz County|             2|           0.0 %|04012|MultiPolygon [[[[...|\n",
      "|  Arkansas|        AR|   Randolph County|             1|           0.0 %|05121|MultiPolygon [[[[...|\n",
      "|California|        CA|Los Angeles County|           124|           0.0 %|06037|MultiPolygon [[[[...|\n",
      "|California|        CA|Los Angeles County|           124|           0.0 %|06037|MultiPolygon [[[[...|\n",
      "|California|        CA|Los Angeles County|           124|           0.0 %|06037|MultiPolygon [[[[...|\n",
      "|California|        CA|Los Angeles County|           124|           0.0 %|06037|MultiPolygon [[[[...|\n",
      "|California|        CA|Los Angeles County|           124|           0.0 %|06037|MultiPolygon [[[[...|\n",
      "|California|        CA|Los Angeles County|           124|           0.0 %|06037|MultiPolygon [[[[...|\n",
      "|California|        CA|Los Angeles County|           124|           0.0 %|06037|MultiPolygon [[[[...|\n",
      "|California|        CA|Los Angeles County|           124|           0.0 %|06037|MultiPolygon [[[[...|\n",
      "|California|        CA|Los Angeles County|           124|           0.0 %|06037|MultiPolygon [[[[...|\n",
      "|California|        CA|Los Angeles County|           124|           0.0 %|06037|MultiPolygon [[[[...|\n",
      "|California|        CA|Los Angeles County|           124|           0.0 %|06037|MultiPolygon [[[[...|\n",
      "|California|        CA|Los Angeles County|           124|           0.0 %|06037|MultiPolygon [[[[...|\n",
      "|California|        CA|Los Angeles County|           124|           0.0 %|06037|MultiPolygon [[[[...|\n",
      "|California|        CA|Los Angeles County|           124|           0.0 %|06037|MultiPolygon [[[[...|\n",
      "|California|        CA|Los Angeles County|           124|           0.0 %|06037|MultiPolygon [[[[...|\n",
      "|California|        CA|Los Angeles County|           124|           0.0 %|06037|MultiPolygon [[[[...|\n",
      "+----------+----------+------------------+--------------+----------------+-----+--------------------+\n",
      "only showing top 20 rows\n",
      "\n"
     ]
    }
   ],
   "source": [
    "data = data.select(\"STATE_NAME\", \"State_code\", \"County\", \"Reach Estimate\", \"Percent Visitors\", \"GEOID\", \"geometry\")\n",
    "data.show()"
   ]
  },
  {
   "cell_type": "code",
   "execution_count": 31,
   "id": "8d9fd0d4-a556-4489-8122-4bd85a626a13",
   "metadata": {},
   "outputs": [],
   "source": [
    "data = data.dropDuplicates()"
   ]
  },
  {
   "cell_type": "code",
   "execution_count": 32,
   "id": "c27d099d-1f16-48b9-8fae-a4ccde51ef93",
   "metadata": {},
   "outputs": [
    {
     "name": "stderr",
     "output_type": "stream",
     "text": [
      "24/09/05 19:16:01 WARN TaskSetManager: Stage 44 contains a task of very large size (9871 KiB). The maximum recommended task size is 1000 KiB.\n",
      "                                                                                \r"
     ]
    }
   ],
   "source": [
    "data.coalesce(1).write.csv(\"/Users/nlblr135/Downloads/insights/geoid_data/new_full_county/\", header = True)"
   ]
  },
  {
   "cell_type": "code",
   "execution_count": null,
   "id": "109c3242-23bb-4d15-81ad-2c2db2253035",
   "metadata": {},
   "outputs": [],
   "source": []
  },
  {
   "cell_type": "code",
   "execution_count": null,
   "id": "affb83fc-7ec8-47af-ace7-e37aaf4de074",
   "metadata": {},
   "outputs": [],
   "source": []
  },
  {
   "cell_type": "code",
   "execution_count": null,
   "id": "ed875e83-a2fa-4055-920a-417066f7484a",
   "metadata": {},
   "outputs": [],
   "source": []
  },
  {
   "cell_type": "code",
   "execution_count": null,
   "id": "dcb95724-8b31-42d2-bfb0-617e19f2fa2b",
   "metadata": {},
   "outputs": [],
   "source": []
  },
  {
   "cell_type": "code",
   "execution_count": 9,
   "id": "7d9d2616-66c6-4668-a1f3-1197786ed6ef",
   "metadata": {},
   "outputs": [
    {
     "ename": "NameError",
     "evalue": "name 'final_df' is not defined",
     "output_type": "error",
     "traceback": [
      "\u001b[0;31m---------------------------------------------------------------------------\u001b[0m",
      "\u001b[0;31mNameError\u001b[0m                                 Traceback (most recent call last)",
      "Cell \u001b[0;32mIn[9], line 1\u001b[0m\n\u001b[0;32m----> 1\u001b[0m final_df \u001b[38;5;241m=\u001b[39m \u001b[43mfinal_df\u001b[49m\u001b[38;5;241m.\u001b[39mwithColumnRenamed(\u001b[38;5;124m\"\u001b[39m\u001b[38;5;124mCounty\u001b[39m\u001b[38;5;124m\"\u001b[39m, \u001b[38;5;124m\"\u001b[39m\u001b[38;5;124mCounty_new\u001b[39m\u001b[38;5;124m\"\u001b[39m)\u001b[38;5;241m.\u001b[39mwithColumn(\u001b[38;5;124m\"\u001b[39m\u001b[38;5;124mCounty_temp\u001b[39m\u001b[38;5;124m\"\u001b[39m, lower(regexp_replace(col(\u001b[38;5;124m\"\u001b[39m\u001b[38;5;124mCounty_new\u001b[39m\u001b[38;5;124m\"\u001b[39m), \u001b[38;5;124m\"\u001b[39m\u001b[38;5;124m \u001b[39m\u001b[38;5;124m\"\u001b[39m, \u001b[38;5;124m\"\u001b[39m\u001b[38;5;124m\"\u001b[39m)))\u001b[38;5;241m.\u001b[39mwithColumn(\u001b[38;5;124m\"\u001b[39m\u001b[38;5;124mState_code_temp\u001b[39m\u001b[38;5;124m\"\u001b[39m, lower(regexp_replace(col(\u001b[38;5;124m\"\u001b[39m\u001b[38;5;124mState_code\u001b[39m\u001b[38;5;124m\"\u001b[39m), \u001b[38;5;124m\"\u001b[39m\u001b[38;5;124m \u001b[39m\u001b[38;5;124m\"\u001b[39m, \u001b[38;5;124m\"\u001b[39m\u001b[38;5;124m\"\u001b[39m)))\n\u001b[1;32m      2\u001b[0m final_df\u001b[38;5;241m.\u001b[39mshow(\u001b[38;5;241m5\u001b[39m)\n",
      "\u001b[0;31mNameError\u001b[0m: name 'final_df' is not defined"
     ]
    }
   ],
   "source": [
    "final_df = final_df.withColumnRenamed(\"County\", \"County_new\").withColumn(\"County_temp\", lower(regexp_replace(col(\"County_new\"), \" \", \"\"))).withColumn(\"State_code_temp\", lower(regexp_replace(col(\"State_code\"), \" \", \"\")))\n",
    "final_df.show(5)\n"
   ]
  },
  {
   "cell_type": "code",
   "execution_count": null,
   "id": "570605ca-cabd-4da2-966b-0bd47b47303a",
   "metadata": {},
   "outputs": [],
   "source": [
    "data = data.select(\"STATE_NAME\", \"State_code\", \"County\", \"Reach Estimate\", \"rank\", \"GEOID\", \"geometry\")\n",
    "data.show()"
   ]
  },
  {
   "cell_type": "code",
   "execution_count": null,
   "id": "6ad15f66-7827-4f03-988b-104faf25452b",
   "metadata": {},
   "outputs": [],
   "source": [
    "data = data.dropDuplicates()"
   ]
  },
  {
   "cell_type": "code",
   "execution_count": null,
   "id": "9f1eed1a-3296-4f7b-aea2-65e58642500a",
   "metadata": {},
   "outputs": [],
   "source": [
    "data.coalesce(1).write.csv(\"/Users/nlblr135/Downloads/insights/geoid_data/new/\", header = True)"
   ]
  },
  {
   "cell_type": "code",
   "execution_count": null,
   "id": "2fb1bdb1-afd2-4580-b612-1c3e9f227943",
   "metadata": {},
   "outputs": [],
   "source": [
    "county_data = spark.read.csv(\"/Users/nlblr135/Downloads/insights/final_county_raw_data/county_count_raw.csv\", header = True)\n",
    "county_data.show(5)"
   ]
  },
  {
   "cell_type": "code",
   "execution_count": null,
   "id": "338b1400-f21a-4e09-b07d-fbccd2149fa8",
   "metadata": {},
   "outputs": [],
   "source": [
    "final_df = final_df.select(\"STATE_NAME\", \"State_code\", \"County\", \"GEOID\", \"geometry\")\n",
    "final_df.show(5)"
   ]
  },
  {
   "cell_type": "code",
   "execution_count": null,
   "id": "f2ccb3f1-ae70-4dbd-92a8-e20cbc4cfc99",
   "metadata": {},
   "outputs": [],
   "source": [
    "final_df = final_df.withColumnRenamed(\"County\", \"County_new\").withColumn(\"County_temp\", lower(regexp_replace(col(\"County_new\"), \" \", \"\"))).withColumn(\"State_code_temp\", lower(regexp_replace(col(\"State_code\"), \" \", \"\")))\n",
    "final_df.show(5)\n",
    "\n",
    "county_data = county_data.withColumn(\"County_temp\", lower(regexp_replace(col(\"County\"), \" \", \"\"))).withColumn(\"State_temp\", lower(regexp_replace(col(\"State\"), \" \", \"\")))\n",
    "county_data.show(5)\n",
    "\n",
    "\n"
   ]
  },
  {
   "cell_type": "code",
   "execution_count": null,
   "id": "ee6642a4-740f-446d-b50d-3529f9c8a585",
   "metadata": {},
   "outputs": [],
   "source": [
    "data = final_df.join(county_data, (final_df.County_temp == county_data.County_temp) & (final_df.State_code_temp == county_data.State_temp))\n",
    "data.show(5)"
   ]
  },
  {
   "cell_type": "code",
   "execution_count": null,
   "id": "2178954f-835b-4700-90bf-03032d583a2f",
   "metadata": {},
   "outputs": [],
   "source": [
    "data = data.select(\"STATE_NAME\", \"State_code\", \"County\", \"count\", \"percentage\", \"GEOID\", \"geometry\")\n",
    "data.show()"
   ]
  },
  {
   "cell_type": "code",
   "execution_count": null,
   "id": "4913a4f0-ce10-456f-9c75-74119898d1de",
   "metadata": {},
   "outputs": [],
   "source": [
    "data = data.dropDuplicates()"
   ]
  },
  {
   "cell_type": "code",
   "execution_count": null,
   "id": "ddb1252d-5a76-4958-834f-c5598d58b722",
   "metadata": {},
   "outputs": [],
   "source": [
    "data.orderBy(col(\"percentage\").desc()).show(5)"
   ]
  },
  {
   "cell_type": "code",
   "execution_count": null,
   "id": "e702629f-0932-4989-a88d-2bcfada21a72",
   "metadata": {},
   "outputs": [],
   "source": [
    "data.coalesce(1).write.csv(\"/Users/nlblr135/Downloads/insights/geoid_data/\", header = True)"
   ]
  },
  {
   "cell_type": "code",
   "execution_count": null,
   "id": "f3881015-a796-479a-9ad3-a999762130bc",
   "metadata": {},
   "outputs": [],
   "source": [
    "fibs = fibs.withColumn(\"State_name_temp\", lower(regexp_replace(col(\"State_name_fibs\"), \" \", \"\"))).withColumn(\"County_name_temp\", lower(regexp_replace(col(\"County_name\"), \" \", \"\")))\n",
    "fibs.show(5)\n"
   ]
  },
  {
   "cell_type": "code",
   "execution_count": null,
   "id": "49e7e9df-7445-46d6-93a4-7077d2894afb",
   "metadata": {},
   "outputs": [],
   "source": [
    "final_df = df.join(fibs, ())\n"
   ]
  },
  {
   "cell_type": "code",
   "execution_count": null,
   "id": "a3776d22-c799-44eb-a289-4b4cb3fb48c6",
   "metadata": {},
   "outputs": [],
   "source": [
    "county_data.orderBy(col(\"count\").desc()).show(5)"
   ]
  },
  {
   "cell_type": "code",
   "execution_count": null,
   "id": "2989fa0c-5012-42fa-b683-819dfe433932",
   "metadata": {},
   "outputs": [],
   "source": [
    "import requests\n",
    "import json\n",
    "\n",
    "\n",
    "url = \"http://int-apigw.azira.com/estimation-api/v5/analytics/audience/build/estimate-reach/footfalls?apikey=XZ1Oz2RmpVVGp8UuGDkq5p7f1OKE7i41&scale=true&frequency=1&tenant_id=2cb3bb59&tp=30&frequency_ope$\"\n",
    "\n",
    "payload = json.dumps({\n",
    "  \"country\": \"USA\",\n",
    "  \"tenant_id\": \"2cb3bb59\",\n",
    "  \"ctv\": False,\n",
    "  \"locations\": {\n",
    "    \"or_bucket\": {\n",
    "      \"admin_regions\": [\n",
    "        \"admin_area_lv2,AL2840-2370695\"\n",
    "      ]\n",
    "    }\n",
    "  },\n",
    "  \"metadata_type\": \"has_point\"\n",
    "})\n",
    "headers = {\n",
    "  'Content-Type': 'application/json'\n",
    "}\n",
    "\n",
    "\n",
    "response = requests.request(\"POST\", url, headers=headers, data=payload)\n",
    "\n",
    "print(response.text)"
   ]
  },
  {
   "cell_type": "code",
   "execution_count": null,
   "id": "e2ecd72f-8cae-4822-959d-242929cbedd1",
   "metadata": {},
   "outputs": [],
   "source": [
    "spark = SparkSession.builder.appName(\"dummy\").getOrCreate()"
   ]
  },
  {
   "cell_type": "code",
   "execution_count": null,
   "id": "0746b5d3-8016-4374-826b-784f6bb7b241",
   "metadata": {},
   "outputs": [],
   "source": [
    "df = spark.read.csv(\"/Users/nlblr135/Downloads/door_county_cel.tsv\",sep = \"\\t\", header = True)"
   ]
  },
  {
   "cell_type": "code",
   "execution_count": null,
   "id": "0f0476f4-a274-4089-ad16-3e7715ca38d9",
   "metadata": {},
   "outputs": [],
   "source": [
    "df.select(\"Common Evening Admin\").distinct().count()"
   ]
  },
  {
   "cell_type": "code",
   "execution_count": null,
   "id": "df3338fa-5b44-453b-a744-2ecf814bd419",
   "metadata": {},
   "outputs": [],
   "source": [
    "df.show(20, False)"
   ]
  },
  {
   "cell_type": "code",
   "execution_count": null,
   "id": "7032ae36-c206-46ae-874e-aa7ddc0387e6",
   "metadata": {},
   "outputs": [],
   "source": [
    "df.select(\"admin_area_lv2\").distinct().count()"
   ]
  },
  {
   "cell_type": "code",
   "execution_count": null,
   "id": "abd5b40c-3860-4416-830f-d72a99180550",
   "metadata": {},
   "outputs": [],
   "source": [
    "df_new = df.withColumn('State Code', split(col('admin_area_lv2'), ', ')[1])\n",
    "\n",
    "# Create a new 'County' column which contains only the county name\n",
    "df_new = df_new.withColumn('admin_area_lv2', split(col('admin_area_lv2'), ', ')[0])\n",
    "\n",
    "# Create the 'FIPS code' column by extracting the first 5 digits of 'admin_area_lv6'\n",
    "df_new = df_new.withColumn('FIPS code', substring(col('admin_area_lv6'), 1, 5))"
   ]
  },
  {
   "cell_type": "code",
   "execution_count": null,
   "id": "757693fa-85d6-4a13-a2a0-3a5e3df0a868",
   "metadata": {},
   "outputs": [],
   "source": [
    "df_new.show(20, False)"
   ]
  },
  {
   "cell_type": "code",
   "execution_count": null,
   "id": "a3c2a329-6e47-48d3-83de-3388880ed675",
   "metadata": {},
   "outputs": [],
   "source": [
    "df_new = df_new.withColumnRenamed(\"admin_area_lv2\", \"County_name\")\n"
   ]
  },
  {
   "cell_type": "code",
   "execution_count": null,
   "id": "553d3005-0165-4817-b7ab-c7c657da4463",
   "metadata": {},
   "outputs": [],
   "source": [
    "df_new = df_new.select(\"State_name\", \"State_code\", \"County_name\", \"FIPS_code\")"
   ]
  },
  {
   "cell_type": "code",
   "execution_count": null,
   "id": "f282b1b7-a530-4ccd-876d-3e7f37bdaac5",
   "metadata": {},
   "outputs": [],
   "source": [
    "df_new = df_new.dropDuplicates()"
   ]
  },
  {
   "cell_type": "code",
   "execution_count": null,
   "id": "e7bb581e-9ae7-4d80-b3a6-5db577bec6f4",
   "metadata": {},
   "outputs": [],
   "source": [
    "df_new.distinct().count()"
   ]
  },
  {
   "cell_type": "code",
   "execution_count": null,
   "id": "fcdb1909-9f55-4c80-bcb7-e46816928d12",
   "metadata": {},
   "outputs": [],
   "source": [
    "df_new.coalesce(1).write.csv(\"/Users/nlblr135/Downloads/insights/FIPS/\", header = True)"
   ]
  },
  {
   "cell_type": "code",
   "execution_count": null,
   "id": "8a501800-6fdc-4f58-b650-07feba0b1929",
   "metadata": {},
   "outputs": [],
   "source": []
  }
 ],
 "metadata": {
  "kernelspec": {
   "display_name": "Python 3 (ipykernel)",
   "language": "python",
   "name": "python3"
  },
  "language_info": {
   "codemirror_mode": {
    "name": "ipython",
    "version": 3
   },
   "file_extension": ".py",
   "mimetype": "text/x-python",
   "name": "python",
   "nbconvert_exporter": "python",
   "pygments_lexer": "ipython3",
   "version": "3.12.0"
  }
 },
 "nbformat": 4,
 "nbformat_minor": 5
}
