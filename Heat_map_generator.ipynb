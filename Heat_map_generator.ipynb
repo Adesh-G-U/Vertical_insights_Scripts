{
 "cells": [
  {
   "cell_type": "code",
   "execution_count": null,
   "id": "aaa21c64",
   "metadata": {},
   "outputs": [],
   "source": [
    "from pyspark.sql.functions import *\n",
    "from pyspark.sql import SparkSession\n",
    "from pyspark.sql.types import StructType, StructField, StringType\n",
    "from pyspark.sql.window import Window\n",
    "import pandas as pd\n",
    "# import boto3\n",
    "# import datetime as dt\n",
    "from datetime import datetime, timedelta\n",
    "# import proximityhash as pr\n",
    "# import pygeohash as pgh\n",
    "# import geojson\n",
    "# import geohashlite\n",
    "\n",
    "# import matplotlib.pyplot as plt\n",
    "# from reportlab.lib.pagesizes import letter\n",
    "# from reportlab.pdfgen import canvas"
   ]
  },
  {
   "cell_type": "code",
   "execution_count": null,
   "id": "8e950342-3aeb-44bb-b950-df885d0a56ff",
   "metadata": {},
   "outputs": [],
   "source": [
    "import geopandas as gpd\n",
    "import folium\n",
    "from folium import Choropleth\n",
    "from shapely.geometry import shape\n",
    "import json\n",
    "from folium import LinearColormap\n",
    "from selenium import webdriver\n",
    "import time\n",
    "from selenium.webdriver.chrome.service import Service\n",
    "from selenium.webdriver.chrome.options import Options\n",
    "from fpdf import FPDF"
   ]
  },
  {
   "cell_type": "code",
   "execution_count": null,
   "id": "7ebe8635-6c3c-4154-8e04-f291c8c560b1",
   "metadata": {},
   "outputs": [],
   "source": [
    "spark = SparkSession.builder.appName(\"insights\").getOrCreate()"
   ]
  },
  {
   "cell_type": "code",
   "execution_count": null,
   "id": "b1249985-dcf2-4801-9de0-0db2534edcc2",
   "metadata": {},
   "outputs": [],
   "source": [
    "df = spark.read.csv(\"/Users/nlblr135/Downloads/insights/geoid_data/new_full_county/county_count.csv\", header = True)\n",
    "df.show(5)"
   ]
  },
  {
   "cell_type": "code",
   "execution_count": null,
   "id": "748748be-ba77-4b25-ba2f-bf1f05758640",
   "metadata": {},
   "outputs": [],
   "source": [
    "pdf = df.toPandas()"
   ]
  },
  {
   "cell_type": "code",
   "execution_count": null,
   "id": "88ca5124-9198-43f7-b701-7c74f8d0315d",
   "metadata": {},
   "outputs": [],
   "source": [
    "pdf['Reach Estimate'] = pd.to_numeric(pdf['Reach Estimate'], errors='coerce')\n",
    "\n",
    "# Drop any rows where 'count' could not be converted (optional, if needed)\n",
    "pdf = pdf.dropna(subset=['Reach Estimate'])"
   ]
  },
  {
   "cell_type": "code",
   "execution_count": null,
   "id": "7baeb243-0935-49c8-8440-607b28d6a5ab",
   "metadata": {},
   "outputs": [],
   "source": [
    "# Convert raw MultiPolygon strings to valid GeoJSON-like format\n",
    "def convert_to_geojson(geometry_str):\n",
    "    # Remove 'MultiPolygon ' prefix\n",
    "    geojson_str = geometry_str.replace('MultiPolygon ', '')\n",
    "    # Add surrounding braces to make it a valid GeoJSON string\n",
    "    geojson_str = f'{{\"type\": \"MultiPolygon\", \"coordinates\": {geojson_str}}}'\n",
    "    return json.loads(geojson_str)\n",
    "\n",
    "# Convert to Shapely geometries\n",
    "pdf['geometry'] = pdf['geometry'].apply(lambda x: shape(convert_to_geojson(x)))"
   ]
  },
  {
   "cell_type": "code",
   "execution_count": null,
   "id": "77e6c2fc-45c3-4f2b-b13d-6196476c87ff",
   "metadata": {},
   "outputs": [],
   "source": [
    "# Convert your DataFrame to a GeoDataFrame if it's not already\n",
    "gdf = gpd.GeoDataFrame(pdf, geometry=pdf['geometry'])\n",
    "\n",
    "# # Find the row with the highest count\n",
    "# max_count_row = pdf.loc[pdf['count'].astype(int).idxmax()]\n",
    "\n",
    "# # Get the geometry of this region\n",
    "# max_count_geometry = gdf.loc[gdf['GEOID'] == max_count_row['GEOID'], 'geometry'].values[0]\n",
    "\n",
    "gdf.set_crs(epsg=4326, inplace=True)\n",
    "\n",
    "# # Extract the centroid of the geometry to use as the map center\n",
    "# center_coordinates = max_count_geometry.centroid.coords[0]"
   ]
  },
  {
   "cell_type": "code",
   "execution_count": null,
   "id": "ef7273f8-7b7b-4b9c-99d8-88455db1af9a",
   "metadata": {},
   "outputs": [],
   "source": [
    "# Ensure 'count' column is numeric\n",
    "pdf['Reach Estimate'] = pd.to_numeric(pdf['Reach Estimate'], errors='coerce')\n",
    "\n",
    "# Find the row with the highest count\n",
    "max_count_row = pdf.loc[pdf['Reach Estimate'].idxmax()]\n",
    "\n",
    "# Get the geometry of the region with the highest count\n",
    "max_count_geometry = gdf.loc[gdf['GEOID'] == max_count_row['GEOID'], 'geometry'].values[0]\n",
    "\n",
    "# Extract the centroid of the geometry to use as the map center\n",
    "center_coordinates = [max_count_geometry.centroid.y, max_count_geometry.centroid.x]\n",
    "\n",
    "# Initialize a folium map centered on the region with the highest count\n",
    "m = folium.Map(location=center_coordinates, zoom_start=9) "
   ]
  },
  {
   "cell_type": "code",
   "execution_count": null,
   "id": "dd761acc-c6db-49cd-9e82-421cb80244a2",
   "metadata": {},
   "outputs": [],
   "source": [
    "# Find the minimum and maximum count values\n",
    "min_count = 1\n",
    "print(min_count)\n",
    "max_count = pdf['Reach Estimate'].max()\n",
    "print(max_count)\n",
    "\n",
    "# Define custom bins dynamically (e.g., 5 bins)\n",
    "bin_step = (max_count - min_count) / 20\n",
    "bins = [min_count + i * bin_step for i in range(21)]"
   ]
  },
  {
   "cell_type": "code",
   "execution_count": null,
   "id": "1876b032-c457-4e2b-bbe5-d5051a4489f5",
   "metadata": {},
   "outputs": [],
   "source": [
    "# # Create a Choropleth map using GEOID\n",
    "Choropleth(\n",
    "    geo_data=gdf.to_json(),  # Convert GeoDataFrame to GeoJSON string\n",
    "    name='choropleth',\n",
    "    data=pdf,  # Use the Pandas DataFrame\n",
    "    columns=['GEOID', 'Reach Estimate'],\n",
    "    key_on='feature.properties.GEOID',  # Ensure this matches your GeoJSON\n",
    "    fill_color='OrRd',  # Placeholder fill color\n",
    "    fill_opacity=0.9,\n",
    "    # line_color='',  # Set line color to white\n",
    "    line_opacity=0.4,      # Set line_opacity to 0 to make borders invisible\n",
    "    legend_name='Reach Estimate',\n",
    "    bins=bins,  # Adjust the number of bins as needed\n",
    ").add_to(m)"
   ]
  },
  {
   "cell_type": "code",
   "execution_count": null,
   "id": "266e6d70-6799-4f48-b83c-e1fb194ceba6",
   "metadata": {},
   "outputs": [],
   "source": [
    "folium.GeoJson(\n",
    "    gdf,\n",
    "    name='geojson',\n",
    "    style_function=lambda x: {'color': 'white', 'weight': 0.9}  # Set weight to 0 to hide borders\n",
    ").add_to(m)\n",
    "\n",
    "\n",
    "# folium.GeoJson(\n",
    "#     gdf,\n",
    "#     name='geojson'\n",
    "# ).add_to(m)"
   ]
  },
  {
   "cell_type": "code",
   "execution_count": null,
   "id": "952daba7-dc75-4316-9fa5-f424b1e9b034",
   "metadata": {},
   "outputs": [],
   "source": [
    "# Save the map as an HTML file\n",
    "m.save('/Users/nlblr135/Downloads/insights/final/heatmap.html')\n",
    "\n",
    "# Display the map in a Jupyter Notebook (if using one)\n",
    "m"
   ]
  },
  {
   "cell_type": "code",
   "execution_count": null,
   "id": "6b4e1c4a-a970-4552-be22-4a7f1c5912e4",
   "metadata": {},
   "outputs": [],
   "source": [
    "# Path to chromedriver\n",
    "driver_path = '/Users/nlblr135/Downloads/insights/chromedriver-mac-x64/chromedriver'\n",
    "\n",
    "# Setup Chrome options for headless mode\n",
    "chrome_options = Options()\n",
    "chrome_options.add_argument('--headless')\n",
    "chrome_options.add_argument('--no-sandbox')\n",
    "chrome_options.add_argument('--disable-dev-shm-usage')\n",
    "\n",
    "# Set up the Service object\n",
    "service = Service(driver_path)\n",
    "\n",
    "# Initialize the driver with Service and options\n",
    "driver = webdriver.Chrome(service=service, options=chrome_options)"
   ]
  },
  {
   "cell_type": "code",
   "execution_count": null,
   "id": "bf891f10-272c-42b0-a092-a38c9152bd3e",
   "metadata": {},
   "outputs": [],
   "source": [
    "# Open the saved HTML map file\n",
    "driver.get('file:///Users/nlblr135/Downloads/insights/final/heatmap.html')\n",
    "\n",
    "# Must add sleep during automation"
   ]
  },
  {
   "cell_type": "code",
   "execution_count": null,
   "id": "3e852ddf-09f7-4591-b805-f673a0bcbae9",
   "metadata": {},
   "outputs": [],
   "source": [
    "# Save screenshot\n",
    "driver.save_screenshot('/Users/nlblr135/Downloads/insights/final/texas_heatmap_map_ss.png')\n",
    "driver.quit()"
   ]
  },
  {
   "cell_type": "code",
   "execution_count": null,
   "id": "c08a15b2-d2e4-4eff-bef4-04c3b2cbd446",
   "metadata": {},
   "outputs": [],
   "source": []
  },
  {
   "cell_type": "code",
   "execution_count": null,
   "id": "eb654a32-c858-420f-b5a4-e1c7492cbf53",
   "metadata": {},
   "outputs": [],
   "source": []
  },
  {
   "cell_type": "code",
   "execution_count": null,
   "id": "b0c610e1-49a3-4c3e-bf06-6f6d3824cb17",
   "metadata": {},
   "outputs": [],
   "source": []
  },
  {
   "cell_type": "code",
   "execution_count": null,
   "id": "dee0c578-b77f-46dd-a629-1d3af79190f4",
   "metadata": {},
   "outputs": [],
   "source": []
  },
  {
   "cell_type": "code",
   "execution_count": null,
   "id": "3b4b2dca-2f5e-4059-b660-8c0ef1bd8a45",
   "metadata": {},
   "outputs": [],
   "source": []
  },
  {
   "cell_type": "code",
   "execution_count": null,
   "id": "baf30769-baf5-4cdb-a485-95e7c6932bc2",
   "metadata": {},
   "outputs": [],
   "source": []
  },
  {
   "cell_type": "code",
   "execution_count": null,
   "id": "aa79bcef-ed9b-4a70-8a95-27e85e2a75a9",
   "metadata": {},
   "outputs": [],
   "source": []
  }
 ],
 "metadata": {
  "kernelspec": {
   "display_name": "Python 3 (ipykernel)",
   "language": "python",
   "name": "python3"
  },
  "language_info": {
   "codemirror_mode": {
    "name": "ipython",
    "version": 3
   },
   "file_extension": ".py",
   "mimetype": "text/x-python",
   "name": "python",
   "nbconvert_exporter": "python",
   "pygments_lexer": "ipython3",
   "version": "3.12.0"
  }
 },
 "nbformat": 4,
 "nbformat_minor": 5
}
