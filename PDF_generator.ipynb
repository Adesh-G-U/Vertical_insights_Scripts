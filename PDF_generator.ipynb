{
 "cells": [
  {
   "cell_type": "code",
   "execution_count": 1,
   "id": "01b02740-aca7-49f1-a3ae-606adf54a08a",
   "metadata": {},
   "outputs": [],
   "source": [
    "import pandas as pd\n",
    "from reportlab.lib.pagesizes import letter\n",
    "from reportlab.lib import colors\n",
    "from reportlab.lib.styles import getSampleStyleSheet, ParagraphStyle\n",
    "from reportlab.lib.units import inch\n",
    "from reportlab.platypus import SimpleDocTemplate, Table, TableStyle, Paragraph, Image, Spacer, PageBreak"
   ]
  },
  {
   "cell_type": "code",
   "execution_count": 2,
   "id": "7d27beb5-0cb3-4dbf-a63a-ca193a9b09a1",
   "metadata": {},
   "outputs": [],
   "source": [
    "df = pd.read_csv(\"/Users/nlblr135/Downloads/insights/final/top_five_cel.csv\")\n",
    "trade_area_map = \"/Users/nlblr135/Downloads/insights/final/trade_area_map_ss.png\"\n",
    "heat_map = \"/Users/nlblr135/Downloads/insights/final/heatmap_map_ss.png\"\n",
    "texas_heat_map = \"/Users/nlblr135/Downloads/insights/final/texas_heatmap_map_ss.png\""
   ]
  },
  {
   "cell_type": "code",
   "execution_count": 3,
   "id": "63bad29d-6df6-4ec2-a9ba-ab29edcb4cbd",
   "metadata": {},
   "outputs": [],
   "source": [
    "df_columns = [\"County\", \"State\", \"Percent Visitors\", \"Reach Estimate\"]"
   ]
  },
  {
   "cell_type": "code",
   "execution_count": 4,
   "id": "f4e401c0-4f98-4aba-94a9-4367ac4a765a",
   "metadata": {},
   "outputs": [],
   "source": [
    "CTV_reach = \"2.4 Million\"\n",
    "Mobile_reach = \"9.6 Million\"\n",
    "Lookalike_CTV = \"3.6 Million\"\n",
    "Lookalike_Mobile = \"14.4 Million\"\n",
    "Mobile_reach_Texas = \"578 K\"\n",
    "CTV_reach_Texas = \"144 K\"\n",
    "Mobile_top_performing = \"112 Million\"\n",
    "CTV_top_performing = \"28 Million\"\n",
    "Mobile_worst_performing = \"355 K\"\n",
    "CTV_worst_performing = \"88 K\""
   ]
  },
  {
   "cell_type": "code",
   "execution_count": 5,
   "id": "baeebda5-563d-4db4-b389-bca572535114",
   "metadata": {},
   "outputs": [],
   "source": [
    "# Create the PDF\n",
    "pdf_filename = \"/Users/nlblr135/Downloads/insights/final/verical_insight_reports.pdf\"\n",
    "doc = SimpleDocTemplate(pdf_filename, pagesize=letter)"
   ]
  },
  {
   "cell_type": "code",
   "execution_count": 6,
   "id": "d506d971-6eb5-4014-a15d-6aafd43c93a2",
   "metadata": {},
   "outputs": [],
   "source": [
    "# Define styles\n",
    "styles = getSampleStyleSheet()\n",
    "style_normal = styles[\"Normal\"]\n",
    "style_heading = ParagraphStyle(name=\"Heading1\", fontSize=16, leading=24, alignment=1, spaceAfter=10)\n",
    "# Create a paragraph style with custom line spacing\n",
    "style_content = ParagraphStyle(\n",
    "    'Normal',\n",
    "    fontSize=10,\n",
    "    leading=12,  # This sets the line spacing (leading is font size + extra space)\n",
    "    spaceBefore=10,  # Space before each paragraph\n",
    "    spaceAfter=8,  # Space after each paragraph\n",
    ")"
   ]
  },
  {
   "cell_type": "code",
   "execution_count": 7,
   "id": "926b27cc-5c0e-415b-9697-28f4b86d9be4",
   "metadata": {},
   "outputs": [],
   "source": [
    "# Create content for the PDF\n",
    "content = []"
   ]
  },
  {
   "cell_type": "code",
   "execution_count": 8,
   "id": "1a329795-54d9-46c6-8928-8491dccd60a9",
   "metadata": {},
   "outputs": [],
   "source": [
    "# Define styles\n",
    "style_heading_page_1 = ParagraphStyle(name=\"Heading1\", fontSize=16, leading=24, alignment=1, spaceAfter=8)\n",
    "# Create a paragraph style with custom line spacing\n",
    "style_content_page_1 = ParagraphStyle(\n",
    "    'Normal',\n",
    "    fontSize=10,\n",
    "    leading=10,  # This sets the line spacing (leading is font size + extra space)\n",
    "    spaceBefore=8,  # Space before each paragraph\n",
    "    spaceAfter=8,  # Space after each paragraph\n",
    ")\n",
    "\n",
    "\n",
    "# First Page: Heatmap and table\n",
    "content.append(Paragraph(\"Unlock Tourist Potential in Your Core Markets!\", style_heading))\n",
    "content.append(Spacer(1, 8))\n",
    "\n",
    "# Add heatmap image\n",
    "content.append(Image(heat_map, width=5*inch, height=3*inch))\n",
    "content.append(Spacer(1, 10))\n",
    "\n",
    "# Add table\n",
    "table_data = [df_columns] + df.values.tolist()\n",
    "table = Table(table_data)\n",
    "table.setStyle(TableStyle([\n",
    "    ('BACKGROUND', (0, 0), (-1, 0), colors.HexColor(\"#084C61\")),\n",
    "    ('TEXTCOLOR', (0, 0), (-1, 0), colors.white),\n",
    "    ('ALIGN', (0, 0), (-1, -1), 'CENTER'),\n",
    "    ('FONTNAME', (0, 0), (-1, 0), 'Helvetica-Bold'),\n",
    "    ('BOTTOMPADDING', (0, 0), (-1, 0), 12),\n",
    "    ('BACKGROUND', (0, 1), (-1, -1), colors.whitesmoke),\n",
    "    ('GRID', (0, 0), (-1, -1), 1, colors.black),\n",
    "]))\n",
    "content.append(table)\n",
    "content.append(Spacer(1, 10))\n",
    "\n",
    "# Add Content\n",
    "content.append(Paragraph(\"Seamless Omnichannel Audience Engagement\", style_heading_page_1))\n",
    "content.append(Paragraph(f\"\"\"• <b>Connected TV</b>: Engage <u>{CTV_reach}</u> targeted households with breathtaking visuals \n",
    "and persuasive storytelling, turning viewers into eager travellers.\"\"\", style_content_page_1))\n",
    "content.append(Paragraph(f\"• <b>Mobile</b>: Capture the attention of <u>{Mobile_reach}</u> mobile devices, bringing your destination to their fingertips.\", style_content_page_1))\n",
    "content.append(Spacer(1, 2))\n",
    "\n",
    "\n",
    "#Add content\n",
    "content.append(Paragraph(\"Target Lookalike Audiences\", style_heading_page_1))\n",
    "content.append(Paragraph(\"\"\"Reach potential travelers by mirroring the characteristics of your existing visitors within their home markets, ensuring your campaigns \n",
    "resonate with those most likely to visit\"\"\", style_content_page_1))\n",
    "content.append(Paragraph(f\"\"\"• <b>Connected TV</b>: Engage <u>{Lookalike_CTV}</u> targeted households with breathtaking visuals \n",
    "and persuasive storytelling, turning viewers into eager travellers.\"\"\", style_content_page_1))\n",
    "content.append(Paragraph(f\"• <b>Mobile</b>: Capture the attention of <u>{Lookalike_Mobile}</u> mobile devices, bringing your destination to their fingertips.\", style_content_page_1))\n",
    "\n",
    "\n",
    "# Adding the hyperlink\n",
    "html_map_link = \"https://drive.google.com/uc?id=1wnsdmRDcEBh8T-297gUszQKNvQIJ3jAs\"  # Replace with your actual HTML map file path or URL\n",
    "link_text = f'Reach out to your customer executive for more details. <a href=\"{html_map_link}\"><font color=\"blue\">View HTML version of the map here</font></a>.'\n",
    "content.append(Paragraph(link_text, style_content_page_1))\n",
    "\n",
    "# End page\n",
    "content.append(PageBreak())"
   ]
  },
  {
   "cell_type": "code",
   "execution_count": 9,
   "id": "d7d8cd32-2f64-4c51-a687-500f38da68a1",
   "metadata": {},
   "outputs": [],
   "source": [
    "# # Second Page: Heatmap and table\n",
    "# content.append(Paragraph(\"Unlock Tourist Potential in Your Core Markets!\", style_heading))\n",
    "\n",
    "# # Add heatmap image\n",
    "# content.append(Image(heat_map, width=7*inch, height=4*inch))\n",
    "# content.append(Spacer(1, 24))\n",
    "\n",
    "# # Add table\n",
    "# table_data = [df_columns] + df.values.tolist()\n",
    "# table = Table(table_data)\n",
    "# table.setStyle(TableStyle([\n",
    "#     ('BACKGROUND', (0, 0), (-1, 0), colors.HexColor(\"#084C61\")),\n",
    "#     ('TEXTCOLOR', (0, 0), (-1, 0), colors.white),\n",
    "#     ('ALIGN', (0, 0), (-1, -1), 'CENTER'),\n",
    "#     ('FONTNAME', (0, 0), (-1, 0), 'Helvetica-Bold'),\n",
    "#     ('BOTTOMPADDING', (0, 0), (-1, 0), 12),\n",
    "#     ('BACKGROUND', (0, 1), (-1, -1), colors.whitesmoke),\n",
    "#     ('GRID', (0, 0), (-1, -1), 1, colors.black),\n",
    "# ]))\n",
    "# content.append(table)\n",
    "# content.append(Spacer(1, 19))\n",
    "\n",
    "# #Add content\n",
    "# content.append(Paragraph(\"Target Lookalike Audiences\", style_heading))\n",
    "# content.append(Paragraph(\"\"\"Reach potential travelers by mirroring the characteristics of your existing visitors within their home markets, ensuring your campaigns \n",
    "# resonate with those most likely to visit\"\"\", style_content))\n",
    "# content.append(Paragraph(f\"\"\"• <b>Connected TV</b>: Engage <u>{Lookalike_CTV}</u> targeted households with breathtaking visuals \n",
    "# and persuasive storytelling, turning viewers into eager travellers.\"\"\", style_content))\n",
    "# content.append(Paragraph(f\"• <b>Mobile</b>: Capture the attention of <u>{Lookalike_Mobile}</u> mobile devices, bringing your destination to their fingertips.\", style_content))\n",
    "\n",
    "# # Adding the hyperlink\n",
    "# html_map_link = \"https://drive.google.com/uc?id=1oZoUjtjuhTG-8-Rw3o0gobTB5fr-pl5m\"  # Replace with your actual HTML map file path or URL\n",
    "# link_text = f'Reach out to your customer executive for more details. <a href=\"{html_map_link}\"><font color=\"blue\">View HTML version of the map here</font></a>.'\n",
    "# content.append(Paragraph(link_text, style_content))\n",
    "\n",
    "# # End page\n",
    "# content.append(PageBreak())"
   ]
  },
  {
   "cell_type": "code",
   "execution_count": 10,
   "id": "46b15e0e-a3b2-43ff-ab6e-915506f61ef4",
   "metadata": {},
   "outputs": [],
   "source": [
    "# Third Page: Trade area\n",
    "content.append(Paragraph(\"Geo-Targeted Retail Campaign\", style_heading))\n",
    "\n",
    "# Add Trade area image\n",
    "content.append(Image(trade_area_map, width=7*inch, height=4*inch))\n",
    "content.append(Spacer(1, 24))\n",
    "\n",
    "#Add content\n",
    "content.append(Paragraph(\"Target Catchment areas\", style_heading))\n",
    "content.append(Paragraph(\"\"\"Leverage our advanced geographic insights to identify key trade areas—zones where the majority of tourists flock to your store. With \n",
    "this data, we can craft dynamic, region wide, real-time campaigns that target potential shoppers within these hotspots, driving footfall \n",
    "precisely when and where it matters most\"\"\", style_content))\n",
    "content.append(Paragraph(f\"\"\"• <b>Connected TV</b>: <u>{CTV_reach_Texas}</u> households in Texas\"\"\", style_content))\n",
    "content.append(Paragraph(f\"• <b>Mobile</b>: <u>{Mobile_reach_Texas}</u> unique devices in Texas\", style_content))\n",
    "content.append(Spacer(1, 80))\n",
    "\n",
    "# Adding the hyperlink\n",
    "html_map_link = \"https://drive.google.com/uc?id=1Vqb23i1dRWMDxKz5Mj4JsEHi8_F3uH_a\"  # Replace with your actual HTML map file path or URL\n",
    "link_text = f'Reach out to your customer executive for more details. <a href=\"{html_map_link}\"><font color=\"blue\">View HTML version of the map here</font></a>.'\n",
    "content.append(Paragraph(link_text, style_content))\n",
    "\n",
    "# End page\n",
    "content.append(PageBreak())"
   ]
  },
  {
   "cell_type": "code",
   "execution_count": 11,
   "id": "eea9ab1c-23ad-402b-a282-36d2de639c24",
   "metadata": {},
   "outputs": [],
   "source": [
    "# Fourth Page: Heat map area\n",
    "content.append(Paragraph(\"Target the High and Low performing regions\", style_heading))\n",
    "\n",
    "# Add heatmap image\n",
    "content.append(Image(texas_heat_map, width=7*inch, height=4*inch))\n",
    "content.append(Spacer(1, 24))\n",
    "\n",
    "#Add content\n",
    "content.append(Paragraph(\"Target High Performing Counties in Texas\", style_heading))\n",
    "content.append(Paragraph(\"\"\"Highlight your best markets with loyalty-driven ads. Promote loyalty programs and referral incentives to deepen customer engagement.\"\"\", style_content))\n",
    "content.append(Paragraph(f\"\"\"• <b>Connected TV</b>: <u>{CTV_top_performing}</u> households\"\"\", style_content))\n",
    "content.append(Paragraph(f\"• <b>Mobile</b>: <u>{Mobile_top_performing}</u> unique devices\", style_content))\n",
    "content.append(Paragraph(\"Target Low Performing Counties in Texas\", style_heading))\n",
    "content.append(Paragraph(\"\"\"Boost growth in weaker markets with competitor conquest and customer acquisition ads. Focus on discounts, sales, and specialty products to attract new \n",
    "customers and drive conversions.\"\"\", style_content))\n",
    "content.append(Paragraph(f\"\"\"• <b>Connected TV</b>: <u>{CTV_worst_performing}</u> households\"\"\", style_content))\n",
    "content.append(Paragraph(f\"• <b>Mobile</b>: <u>{Mobile_worst_performing}</u> unique devices\", style_content))\n",
    "content.append(Spacer(1, 35))\n",
    "\n",
    "# Adding the hyperlink\n",
    "html_map_link = \"https://drive.google.com/uc?id=19iRaKxS7o2WIBD9C_LlJSanuOiqORjbg\"  # Replace with your actual HTML map file path or URL\n",
    "link_text = f'Reach out to your customer executive for more details. <a href=\"{html_map_link}\"><font color=\"blue\">View HTML version of the map here</font></a>.'\n",
    "content.append(Paragraph(link_text, style_content))\n",
    "\n",
    "# End page\n",
    "content.append(PageBreak())"
   ]
  },
  {
   "cell_type": "code",
   "execution_count": 12,
   "id": "51375d42-4413-486c-b0d9-a63d455f35a8",
   "metadata": {},
   "outputs": [
    {
     "name": "stdout",
     "output_type": "stream",
     "text": [
      "PDF generated successfully!\n"
     ]
    }
   ],
   "source": [
    "# Build the PDF\n",
    "doc.build(content)\n",
    "\n",
    "print(\"PDF generated successfully!\")"
   ]
  },
  {
   "cell_type": "code",
   "execution_count": null,
   "id": "ff3444d4-7b1b-4df8-9b63-2a5c3f14b334",
   "metadata": {},
   "outputs": [],
   "source": []
  },
  {
   "cell_type": "code",
   "execution_count": null,
   "id": "81f34177-05bc-49a6-907e-fce3f4eedaeb",
   "metadata": {},
   "outputs": [],
   "source": []
  },
  {
   "cell_type": "code",
   "execution_count": null,
   "id": "4455c559-f1b7-40ad-b329-b1c5ce188c8c",
   "metadata": {},
   "outputs": [],
   "source": []
  },
  {
   "cell_type": "code",
   "execution_count": null,
   "id": "0675e47a-c266-4423-b861-e1e5ffe5b18f",
   "metadata": {},
   "outputs": [],
   "source": []
  }
 ],
 "metadata": {
  "kernelspec": {
   "display_name": "Python 3 (ipykernel)",
   "language": "python",
   "name": "python3"
  },
  "language_info": {
   "codemirror_mode": {
    "name": "ipython",
    "version": 3
   },
   "file_extension": ".py",
   "mimetype": "text/x-python",
   "name": "python",
   "nbconvert_exporter": "python",
   "pygments_lexer": "ipython3",
   "version": "3.12.0"
  }
 },
 "nbformat": 4,
 "nbformat_minor": 5
}
